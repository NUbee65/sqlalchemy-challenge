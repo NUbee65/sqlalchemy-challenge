{
 "cells": [
  {
   "cell_type": "code",
   "execution_count": 1,
   "metadata": {},
   "outputs": [
    {
     "name": "stdout",
     "output_type": "stream",
     "text": [
      "Collecting pingouin"
     ]
    },
    {
     "name": "stderr",
     "output_type": "stream",
     "text": [
      "WARNING: No metadata found in c:\\users\\brook\\anaconda3\\lib\\site-packages\n"
     ]
    },
    {
     "name": "stdout",
     "output_type": "stream",
     "text": [
      "\n",
      "  Downloading pingouin-0.3.8.tar.gz (223 kB)\n",
      "Requirement already satisfied: numpy>=1.15 in c:\\users\\brook\\anaconda3\\lib\\site-packages (from pingouin) (1.19.2)\n",
      "Requirement already satisfied: scipy>=1.3 in c:\\users\\brook\\anaconda3\\lib\\site-packages (from pingouin) (1.5.2)\n",
      "Requirement already satisfied: pandas>=0.24 in c:\\users\\brook\\anaconda3\\lib\\site-packages (from pingouin) (1.1.3)\n",
      "Requirement already satisfied: matplotlib>=3.0.2 in c:\\users\\brook\\anaconda3\\lib\\site-packages (from pingouin) (3.3.2)\n",
      "Requirement already satisfied: seaborn>=0.9.0 in c:\\users\\brook\\anaconda3\\lib\\site-packages (from pingouin) (0.11.0)\n",
      "Requirement already satisfied: statsmodels>=0.10.0 in c:\\users\\brook\\anaconda3\\lib\\site-packages (from pingouin) (0.12.0)\n",
      "Requirement already satisfied: scikit-learn in c:\\users\\brook\\anaconda3\\lib\\site-packages (from pingouin) (0.23.2)\n",
      "Collecting pandas_flavor>=0.1.2\n",
      "  Downloading pandas_flavor-0.2.0-py2.py3-none-any.whl (6.6 kB)\n",
      "Collecting outdated\n",
      "  Downloading outdated-0.2.0.tar.gz (4.0 kB)\n",
      "Collecting tabulate\n",
      "  Downloading tabulate-0.8.7-py3-none-any.whl (24 kB)\n",
      "Requirement already satisfied: pytz>=2017.2 in c:\\users\\brook\\anaconda3\\lib\\site-packages (from pandas>=0.24->pingouin) (2020.1)\n",
      "Requirement already satisfied: python-dateutil>=2.7.3 in c:\\users\\brook\\anaconda3\\lib\\site-packages (from pandas>=0.24->pingouin) (2.8.1)\n",
      "Requirement already satisfied: cycler>=0.10 in c:\\users\\brook\\anaconda3\\lib\\site-packages (from matplotlib>=3.0.2->pingouin) (0.10.0)\n",
      "Requirement already satisfied: certifi>=2020.06.20 in c:\\users\\brook\\anaconda3\\lib\\site-packages (from matplotlib>=3.0.2->pingouin) (2020.6.20)\n",
      "Requirement already satisfied: pillow>=6.2.0 in c:\\users\\brook\\anaconda3\\lib\\site-packages (from matplotlib>=3.0.2->pingouin) (8.0.1)\n",
      "Requirement already satisfied: kiwisolver>=1.0.1 in c:\\users\\brook\\anaconda3\\lib\\site-packages (from matplotlib>=3.0.2->pingouin) (1.3.0)\n",
      "Requirement already satisfied: pyparsing!=2.0.4,!=2.1.2,!=2.1.6,>=2.0.3 in c:\\users\\brook\\anaconda3\\lib\\site-packages (from matplotlib>=3.0.2->pingouin) (2.4.7)\n",
      "Requirement already satisfied: patsy>=0.5 in c:\\users\\brook\\anaconda3\\lib\\site-packages (from statsmodels>=0.10.0->pingouin) (0.5.1)\n",
      "Requirement already satisfied: threadpoolctl>=2.0.0 in c:\\users\\brook\\anaconda3\\lib\\site-packages (from scikit-learn->pingouin) (2.1.0)\n",
      "Requirement already satisfied: joblib>=0.11 in c:\\users\\brook\\anaconda3\\lib\\site-packages (from scikit-learn->pingouin) (0.17.0)\n",
      "Collecting xarray\n",
      "  Downloading xarray-0.16.2-py3-none-any.whl (736 kB)\n",
      "Collecting littleutils\n",
      "  Downloading littleutils-0.2.2.tar.gz (6.6 kB)\n",
      "Requirement already satisfied: requests in c:\\users\\brook\\anaconda3\\lib\\site-packages (from outdated->pingouin) (2.24.0)\n",
      "Requirement already satisfied: six>=1.5 in c:\\users\\brook\\anaconda3\\lib\\site-packages (from python-dateutil>=2.7.3->pandas>=0.24->pingouin) (1.15.0)\n",
      "Requirement already satisfied: setuptools>=38.4 in c:\\users\\brook\\anaconda3\\lib\\site-packages (from xarray->pandas_flavor>=0.1.2->pingouin) (50.3.1.post20201107)\n",
      "Requirement already satisfied: urllib3!=1.25.0,!=1.25.1,<1.26,>=1.21.1 in c:\\users\\brook\\anaconda3\\lib\\site-packages (from requests->outdated->pingouin) (1.25.11)\n",
      "Requirement already satisfied: chardet<4,>=3.0.2 in c:\\users\\brook\\anaconda3\\lib\\site-packages (from requests->outdated->pingouin) (3.0.4)\n",
      "Requirement already satisfied: idna<3,>=2.5 in c:\\users\\brook\\anaconda3\\lib\\site-packages (from requests->outdated->pingouin) (2.10)\n",
      "Building wheels for collected packages: pingouin, outdated, littleutils\n",
      "  Building wheel for pingouin (setup.py): started\n",
      "  Building wheel for pingouin (setup.py): finished with status 'done'\n",
      "  Created wheel for pingouin: filename=pingouin-0.3.8-py3-none-any.whl size=221692 sha256=6e775d11dbe5a7d5511e8aa7748b4c6e011d1774bff5eec5ded67847beedb807\n",
      "  Stored in directory: c:\\users\\brook\\appdata\\local\\pip\\cache\\wheels\\6d\\60\\60\\30767bba9ffecc666e5feeed793b0e98ec6c8a37b714458a5e\n",
      "  Building wheel for outdated (setup.py): started\n",
      "  Building wheel for outdated (setup.py): finished with status 'done'\n",
      "  Created wheel for outdated: filename=outdated-0.2.0-py3-none-any.whl size=4964 sha256=83e5878fddcd35c2afa6fed68ff07fbcb79f49c37b592e6c83243c503d17ddc6\n",
      "  Stored in directory: c:\\users\\brook\\appdata\\local\\pip\\cache\\wheels\\2d\\4f\\c9\\062da6e68841f60d0c3434980775671daaa07a574110567de6\n",
      "  Building wheel for littleutils (setup.py): started\n",
      "  Building wheel for littleutils (setup.py): finished with status 'done'\n",
      "  Created wheel for littleutils: filename=littleutils-0.2.2-py3-none-any.whl size=7054 sha256=e1f73b0ca15d1c04e203b1a35c8169e547f12fa5f83d7019ca07e20b823d50e0\n",
      "  Stored in directory: c:\\users\\brook\\appdata\\local\\pip\\cache\\wheels\\6a\\33\\c4\\0ef84d7f5568c2823e3d63a6e08988852fb9e4bc822034870a\n",
      "Successfully built pingouin outdated littleutils\n",
      "Installing collected packages: xarray, pandas-flavor, littleutils, outdated, tabulate, pingouin\n",
      "Successfully installed littleutils-0.2.2 outdated-0.2.0 pandas-flavor-0.2.0 pingouin-0.3.8 tabulate-0.8.7 xarray-0.16.2\n"
     ]
    }
   ],
   "source": [
    "!pip install pingouin"
   ]
  },
  {
   "cell_type": "code",
   "execution_count": null,
   "metadata": {},
   "outputs": [],
   "source": []
  }
 ],
 "metadata": {
  "kernelspec": {
   "display_name": "Python 3",
   "language": "python",
   "name": "python3"
  },
  "language_info": {
   "codemirror_mode": {
    "name": "ipython",
    "version": 3
   },
   "file_extension": ".py",
   "mimetype": "text/x-python",
   "name": "python",
   "nbconvert_exporter": "python",
   "pygments_lexer": "ipython3",
   "version": "3.8.5"
  }
 },
 "nbformat": 4,
 "nbformat_minor": 4
}
